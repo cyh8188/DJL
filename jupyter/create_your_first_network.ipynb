{
 "cells": [
  {
   "cell_type": "markdown",
   "metadata": {},
   "source": [
    "# Create your first deep learning neural network\n",
    "\n",
    "## Introduction\n",
    "\n",
    "In this tutorial, you learn how to use a built-in `Block` to create your first neural network. The simplest deep learning network is a Multilayer Perceptron (MLP). For more information, see [Multilayer Perceptron](https://en.wikipedia.org/wiki/Multilayer_perceptron).\n",
    "\n",
    "## Block API\n",
    "\n",
    "Use [Block](https://javadoc.djl.ai/api/0.2.1/index.html?ai/djl/nn/Block.html) to facilitate the implementation of neural networks consisting of components of arbitrary complexity. A block is a building unit that can be considered as a single neuron, a high-dimensional layer, or an arbitrarily-complex component consisting of multiple layers. You can put different blocks together to form a complex network, just like Lego blocks.\n",
    "\n",
    "\n",
    "## Step 1: Setup development environment\n",
    "\n",
    "### Preparation\n",
    "\n",
    "This tutorial requires the installation of Java Kernel. To install the Java Kernel, see the [README](https://github.com/awslabs/djl/blob/master/jupyter/README.md)."
   ]
  },
  {
   "cell_type": "code",
   "execution_count": null,
   "metadata": {},
   "outputs": [],
   "source": [
    "%maven ai.djl:api:0.3.0-SNAPSHOT\n",
    "%maven org.slf4j:slf4j-api:1.7.26\n",
    "%maven org.slf4j:slf4j-simple:1.7.26"
   ]
  },
  {
   "cell_type": "code",
   "execution_count": null,
   "metadata": {},
   "outputs": [],
   "source": [
    "import ai.djl.*;\n",
    "import ai.djl.nn.*;\n",
    "import ai.djl.nn.core.*;\n",
    "import ai.djl.training.*;"
   ]
  },
  {
   "cell_type": "markdown",
   "metadata": {},
   "source": [
    "## Step 2: Determine your input and output size\n",
    "\n"
   ]
  },
  {
   "cell_type": "markdown",
   "metadata": {},
   "source": [
    "## Step 3: Create a **SequentialBlock**\n",
    "\n",
    "[SequentialBlock](https://javadoc.djl.ai/api/0.2.1/index.html?ai/djl/nn/SequentialBlock.html) is a container whose children form a chain of blocks with each child block feeding its output to the next.\n",
    " "
   ]
  },
  {
   "cell_type": "code",
   "execution_count": null,
   "metadata": {},
   "outputs": [],
   "source": [
    "SequentialBlock block = new SequentialBlock();"
   ]
  },
  {
   "cell_type": "markdown",
   "metadata": {},
   "source": [
    "## Step 4: Add blocks to SequentialBlock"
   ]
  },
  {
   "cell_type": "code",
   "execution_count": null,
   "metadata": {},
   "outputs": [],
   "source": [
    "block.add(Blocks.batchFlattenBlock(256)); // input size is 256\n",
    "block.add(new Linear.Builder().setOutChannels(128).build());\n",
    "block.add(Activation.reluBlock());\n",
    "block.add(new Linear.Builder().setOutChannels(64).build());\n",
    "block.add(Activation.reluBlock());\n",
    "block.add(new Linear.Builder().setOutChannels(10).build()); // output size is 10\n",
    "\n",
    "block"
   ]
  },
  {
   "cell_type": "markdown",
   "metadata": {},
   "source": [
    "## Summary\n",
    "\n",
    "Now that you've successfully created your first neural network, you can use this network to train your model.\n",
    "\n",
    "Next chapter: [Train your first model](train_your_first_model.ipynb)\n",
    "\n",
    "You can find the [source code for this example](https://github.com/awslabs/djl/blob/master/model-zoo/src/main/java/ai/djl/zoo/cv/classification/Mlp.java) on GitHub."
   ]
  }
 ],
 "metadata": {
  "kernelspec": {
   "display_name": "Java",
   "language": "java",
   "name": "java"
  },
  "language_info": {
   "codemirror_mode": "java",
   "file_extension": ".jshell",
   "mimetype": "text/x-java-source",
   "name": "Java",
   "pygments_lexer": "java",
   "version": "12.0.2+10"
  }
 },
 "nbformat": 4,
 "nbformat_minor": 2
}
